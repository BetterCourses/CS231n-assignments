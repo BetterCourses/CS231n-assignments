{
 "cells": [
  {
   "cell_type": "markdown",
   "metadata": {},
   "source": [
    "# Softmax exercise\n",
    "\n",
    "*Complete and hand in this completed worksheet (including its outputs and any supporting code outside of the worksheet) with your assignment submission. For more details see the [assignments page](http://vision.stanford.edu/teaching/cs231n/assignments.html) on the course website.*\n",
    "\n",
    "This exercise is analogous to the SVM exercise. You will:\n",
    "\n",
    "- implement a fully-vectorized **loss function** for the Softmax classifier\n",
    "- implement the fully-vectorized expression for its **analytic gradient**\n",
    "- **check your implementation** with numerical gradient\n",
    "- use a validation set to **tune the learning rate and regularization** strength\n",
    "- **optimize** the loss function with **SGD**\n",
    "- **visualize** the final learned weights\n"
   ]
  },
  {
   "cell_type": "code",
   "execution_count": 8,
   "metadata": {
    "collapsed": false
   },
   "outputs": [
    {
     "name": "stdout",
     "output_type": "stream",
     "text": [
      "The autoreload extension is already loaded. To reload it, use:\n",
      "  %reload_ext autoreload\n"
     ]
    }
   ],
   "source": [
    "import random\n",
    "import numpy as np\n",
    "from cs231n.data_utils import load_CIFAR10\n",
    "import matplotlib.pyplot as plt\n",
    "%matplotlib inline\n",
    "plt.rcParams['figure.figsize'] = (10.0, 8.0) # set default size of plots\n",
    "plt.rcParams['image.interpolation'] = 'nearest'\n",
    "plt.rcParams['image.cmap'] = 'gray'\n",
    "\n",
    "# for auto-reloading extenrnal modules\n",
    "# see http://stackoverflow.com/questions/1907993/autoreload-of-modules-in-ipython\n",
    "%load_ext autoreload\n",
    "%autoreload 2"
   ]
  },
  {
   "cell_type": "code",
   "execution_count": 9,
   "metadata": {
    "collapsed": false
   },
   "outputs": [
    {
     "name": "stdout",
     "output_type": "stream",
     "text": [
      "<open file 'cs231n/datasets/cifar-10-batches-py/data_batch_1', mode 'rb' at 0x10a84cf60>\n",
      "<open file 'cs231n/datasets/cifar-10-batches-py/data_batch_2', mode 'rb' at 0x10a84cf60>\n",
      "<open file 'cs231n/datasets/cifar-10-batches-py/data_batch_3', mode 'rb' at 0x10a84cf60>\n",
      "<open file 'cs231n/datasets/cifar-10-batches-py/data_batch_4', mode 'rb' at 0x10a84cf60>\n",
      "<open file 'cs231n/datasets/cifar-10-batches-py/data_batch_5', mode 'rb' at 0x10a84cf60>\n",
      "<open file 'cs231n/datasets/cifar-10-batches-py/test_batch', mode 'rb' at 0x10a84cf60>\n",
      "Train data shape:  (49000, 3073)\n",
      "Train labels shape:  (49000,)\n",
      "Validation data shape:  (1000, 3073)\n",
      "Validation labels shape:  (1000,)\n",
      "Test data shape:  (1000, 3073)\n",
      "Test labels shape:  (1000,)\n",
      "dev data shape:  (500, 3073)\n",
      "dev labels shape:  (500,)\n"
     ]
    }
   ],
   "source": [
    "def get_CIFAR10_data(num_training=49000, num_validation=1000, num_test=1000, num_dev=500):\n",
    "  \"\"\"\n",
    "  Load the CIFAR-10 dataset from disk and perform preprocessing to prepare\n",
    "  it for the linear classifier. These are the same steps as we used for the\n",
    "  SVM, but condensed to a single function.  \n",
    "  \"\"\"\n",
    "  # Load the raw CIFAR-10 data\n",
    "  cifar10_dir = 'cs231n/datasets/cifar-10-batches-py'\n",
    "  X_train, y_train, X_test, y_test = load_CIFAR10(cifar10_dir)\n",
    "  \n",
    "  # subsample the data\n",
    "  mask = range(num_training, num_training + num_validation)\n",
    "  X_val = X_train[mask]\n",
    "  y_val = y_train[mask]\n",
    "  mask = range(num_training)\n",
    "  X_train = X_train[mask]\n",
    "  y_train = y_train[mask]\n",
    "  mask = range(num_test)\n",
    "  X_test = X_test[mask]\n",
    "  y_test = y_test[mask]\n",
    "  mask = np.random.choice(num_training, num_dev, replace=False)\n",
    "  X_dev = X_train[mask]\n",
    "  y_dev = y_train[mask]\n",
    "  \n",
    "  # Preprocessing: reshape the image data into rows\n",
    "  X_train = np.reshape(X_train, (X_train.shape[0], -1))\n",
    "  X_val = np.reshape(X_val, (X_val.shape[0], -1))\n",
    "  X_test = np.reshape(X_test, (X_test.shape[0], -1))\n",
    "  X_dev = np.reshape(X_dev, (X_dev.shape[0], -1))\n",
    "  \n",
    "  # Normalize the data: subtract the mean image\n",
    "  mean_image = np.mean(X_train, axis = 0)\n",
    "  X_train -= mean_image\n",
    "  X_val -= mean_image\n",
    "  X_test -= mean_image\n",
    "  X_dev -= mean_image\n",
    "  \n",
    "  # add bias dimension and transform into columns\n",
    "  X_train = np.hstack([X_train, np.ones((X_train.shape[0], 1))])\n",
    "  X_val = np.hstack([X_val, np.ones((X_val.shape[0], 1))])\n",
    "  X_test = np.hstack([X_test, np.ones((X_test.shape[0], 1))])\n",
    "  X_dev = np.hstack([X_dev, np.ones((X_dev.shape[0], 1))])\n",
    "  \n",
    "  return X_train, y_train, X_val, y_val, X_test, y_test, X_dev, y_dev\n",
    "\n",
    "\n",
    "# Invoke the above function to get our data.\n",
    "X_train, y_train, X_val, y_val, X_test, y_test, X_dev, y_dev = get_CIFAR10_data()\n",
    "print 'Train data shape: ', X_train.shape\n",
    "print 'Train labels shape: ', y_train.shape\n",
    "print 'Validation data shape: ', X_val.shape\n",
    "print 'Validation labels shape: ', y_val.shape\n",
    "print 'Test data shape: ', X_test.shape\n",
    "print 'Test labels shape: ', y_test.shape\n",
    "print 'dev data shape: ', X_dev.shape\n",
    "print 'dev labels shape: ', y_dev.shape"
   ]
  },
  {
   "cell_type": "markdown",
   "metadata": {},
   "source": [
    "## Softmax Classifier\n",
    "\n",
    "Your code for this section will all be written inside **cs231n/classifiers/softmax.py**. \n"
   ]
  },
  {
   "cell_type": "code",
   "execution_count": 10,
   "metadata": {
    "collapsed": false
   },
   "outputs": [
    {
     "name": "stdout",
     "output_type": "stream",
     "text": [
      "loss: 2.290962\n",
      "sanity check: 2.302585\n"
     ]
    }
   ],
   "source": [
    "# First implement the naive softmax loss function with nested loops.\n",
    "# Open the file cs231n/classifiers/softmax.py and implement the\n",
    "# softmax_loss_naive function.\n",
    "\n",
    "from cs231n.classifiers.softmax import softmax_loss_naive\n",
    "import time\n",
    "\n",
    "# Generate a random softmax weight matrix and use it to compute the loss.\n",
    "W = np.random.randn(3073, 10) * 0.0001\n",
    "loss, grad = softmax_loss_naive(W, X_dev, y_dev, 0.0)\n",
    "\n",
    "# As a rough sanity check, our loss should be something close to -log(0.1).\n",
    "print 'loss: %f' % loss\n",
    "print 'sanity check: %f' % (-np.log(0.1))"
   ]
  },
  {
   "cell_type": "markdown",
   "metadata": {},
   "source": [
    "## Inline Question 1:\n",
    "Why do we expect our loss to be close to -log(0.1)? Explain briefly.**\n",
    "\n",
    "**Your answer:** *Fill this in*\n"
   ]
  },
  {
   "cell_type": "code",
   "execution_count": 11,
   "metadata": {
    "collapsed": false
   },
   "outputs": [
    {
     "name": "stdout",
     "output_type": "stream",
     "text": [
      "numerical: 2.611308 analytic: 2.611308, relative error: 1.955988e-08\n",
      "numerical: -0.220672 analytic: -0.220672, relative error: 4.722957e-08\n",
      "numerical: 2.757157 analytic: 2.757157, relative error: 3.222495e-08\n",
      "numerical: 1.290138 analytic: 1.290138, relative error: 2.687081e-08\n",
      "numerical: -0.958979 analytic: -0.958979, relative error: 5.416938e-09\n",
      "numerical: -1.872520 analytic: -1.872520, relative error: 8.789522e-10\n",
      "numerical: -2.346000 analytic: -2.346000, relative error: 5.832695e-09\n",
      "numerical: 0.104305 analytic: 0.104305, relative error: 3.855512e-07\n",
      "numerical: -2.420694 analytic: -2.420695, relative error: 3.296851e-08\n",
      "numerical: 0.078290 analytic: 0.078290, relative error: 4.092499e-07\n",
      "numerical: 2.547387 analytic: 2.547387, relative error: 5.635228e-10\n",
      "numerical: -0.662054 analytic: -0.662054, relative error: 5.967654e-09\n",
      "numerical: -0.200693 analytic: -0.200693, relative error: 7.899522e-09\n",
      "numerical: 0.856539 analytic: 0.856539, relative error: 1.848468e-08\n",
      "numerical: -2.512267 analytic: -2.512267, relative error: 2.326919e-08\n",
      "numerical: 2.384460 analytic: 2.384460, relative error: 2.323294e-08\n",
      "numerical: -2.127514 analytic: -2.127514, relative error: 1.756425e-08\n",
      "numerical: -6.475576 analytic: -6.475576, relative error: 8.713162e-09\n",
      "numerical: -2.330417 analytic: -2.330417, relative error: 8.973837e-10\n",
      "numerical: -1.463011 analytic: -1.463011, relative error: 1.280188e-08\n"
     ]
    }
   ],
   "source": [
    "# Complete the implementation of softmax_loss_naive and implement a (naive)\n",
    "# version of the gradient that uses nested loops.\n",
    "loss, grad = softmax_loss_naive(W, X_dev, y_dev, 0.0)\n",
    "\n",
    "# As we did for the SVM, use numeric gradient checking as a debugging tool.\n",
    "# The numeric gradient should be close to the analytic gradient.\n",
    "from cs231n.gradient_check import grad_check_sparse\n",
    "f = lambda w: softmax_loss_naive(w, X_dev, y_dev, 0.0)[0]\n",
    "grad_numerical = grad_check_sparse(f, W, grad, 10)\n",
    "\n",
    "# similar to SVM case, do another gradient check with regularization\n",
    "loss, grad = softmax_loss_naive(W, X_dev, y_dev, 1e2)\n",
    "f = lambda w: softmax_loss_naive(w, X_dev, y_dev, 1e2)[0]\n",
    "grad_numerical = grad_check_sparse(f, W, grad, 10)"
   ]
  },
  {
   "cell_type": "code",
   "execution_count": 12,
   "metadata": {
    "collapsed": false
   },
   "outputs": [
    {
     "name": "stdout",
     "output_type": "stream",
     "text": [
      "naive loss: 2.290962e+00 computed in 0.128519s\n",
      "vectorized loss: 2.290962e+00 computed in 0.012278s\n",
      "Loss difference: 0.000000\n",
      "Gradient difference: 0.000000\n"
     ]
    }
   ],
   "source": [
    "# Now that we have a naive implementation of the softmax loss function and its gradient,\n",
    "# implement a vectorized version in softmax_loss_vectorized.\n",
    "# The two versions should compute the same results, but the vectorized version should be\n",
    "# much faster.\n",
    "tic = time.time()\n",
    "loss_naive, grad_naive = softmax_loss_naive(W, X_dev, y_dev, 0.00001)\n",
    "toc = time.time()\n",
    "print 'naive loss: %e computed in %fs' % (loss_naive, toc - tic)\n",
    "\n",
    "from cs231n.classifiers.softmax import softmax_loss_vectorized\n",
    "tic = time.time()\n",
    "loss_vectorized, grad_vectorized = softmax_loss_vectorized(W, X_dev, y_dev, 0.00001)\n",
    "toc = time.time()\n",
    "print 'vectorized loss: %e computed in %fs' % (loss_vectorized, toc - tic)\n",
    "\n",
    "# As we did for the SVM, we use the Frobenius norm to compare the two versions\n",
    "# of the gradient.\n",
    "grad_difference = np.linalg.norm(grad_naive - grad_vectorized, ord='fro')\n",
    "print 'Loss difference: %f' % np.abs(loss_naive - loss_vectorized)\n",
    "print 'Gradient difference: %f' % grad_difference"
   ]
  },
  {
   "cell_type": "code",
   "execution_count": 13,
   "metadata": {
    "collapsed": false
   },
   "outputs": [
    {
     "name": "stdout",
     "output_type": "stream",
     "text": [
      "lr 1.916363e-07 reg 2.813880e+04 train accuracy: 0.338041 val accuracy: 0.367000\n",
      "lr 1.916363e-07 reg 2.820171e+04 train accuracy: 0.337714 val accuracy: 0.360000\n",
      "lr 1.916363e-07 reg 2.846319e+04 train accuracy: 0.339388 val accuracy: 0.347000\n",
      "lr 1.916363e-07 reg 2.862647e+04 train accuracy: 0.336429 val accuracy: 0.353000\n",
      "lr 1.916363e-07 reg 2.866288e+04 train accuracy: 0.333837 val accuracy: 0.353000\n",
      "lr 1.916363e-07 reg 2.867194e+04 train accuracy: 0.340898 val accuracy: 0.346000\n",
      "lr 1.916363e-07 reg 2.873881e+04 train accuracy: 0.338673 val accuracy: 0.366000\n",
      "lr 1.916363e-07 reg 2.876258e+04 train accuracy: 0.334469 val accuracy: 0.349000\n",
      "lr 1.916363e-07 reg 2.898713e+04 train accuracy: 0.339531 val accuracy: 0.346000\n",
      "lr 1.916363e-07 reg 2.903333e+04 train accuracy: 0.338224 val accuracy: 0.346000\n",
      "lr 1.917202e-07 reg 2.836405e+04 train accuracy: 0.337020 val accuracy: 0.355000\n",
      "lr 1.917202e-07 reg 2.838260e+04 train accuracy: 0.341143 val accuracy: 0.348000\n",
      "lr 1.917202e-07 reg 2.845729e+04 train accuracy: 0.337755 val accuracy: 0.354000\n",
      "lr 1.917202e-07 reg 2.846782e+04 train accuracy: 0.332918 val accuracy: 0.330000\n",
      "lr 1.917202e-07 reg 2.861572e+04 train accuracy: 0.337551 val accuracy: 0.355000\n",
      "lr 1.917202e-07 reg 2.879100e+04 train accuracy: 0.336306 val accuracy: 0.336000\n",
      "lr 1.917202e-07 reg 2.885934e+04 train accuracy: 0.336837 val accuracy: 0.360000\n",
      "lr 1.917202e-07 reg 2.894377e+04 train accuracy: 0.335122 val accuracy: 0.350000\n",
      "lr 1.917202e-07 reg 2.900836e+04 train accuracy: 0.336490 val accuracy: 0.352000\n",
      "lr 1.917202e-07 reg 2.915775e+04 train accuracy: 0.334082 val accuracy: 0.339000\n",
      "lr 1.917526e-07 reg 2.804014e+04 train accuracy: 0.339000 val accuracy: 0.341000\n",
      "lr 1.917526e-07 reg 2.807312e+04 train accuracy: 0.336837 val accuracy: 0.338000\n",
      "lr 1.917526e-07 reg 2.826961e+04 train accuracy: 0.337959 val accuracy: 0.350000\n",
      "lr 1.917526e-07 reg 2.832646e+04 train accuracy: 0.334020 val accuracy: 0.342000\n",
      "lr 1.917526e-07 reg 2.844764e+04 train accuracy: 0.341163 val accuracy: 0.346000\n",
      "lr 1.917526e-07 reg 2.853012e+04 train accuracy: 0.338592 val accuracy: 0.354000\n",
      "lr 1.917526e-07 reg 2.858946e+04 train accuracy: 0.334000 val accuracy: 0.349000\n",
      "lr 1.917526e-07 reg 2.863998e+04 train accuracy: 0.340469 val accuracy: 0.341000\n",
      "lr 1.917526e-07 reg 2.891608e+04 train accuracy: 0.335796 val accuracy: 0.366000\n",
      "lr 1.917526e-07 reg 2.896904e+04 train accuracy: 0.335102 val accuracy: 0.365000\n",
      "lr 1.918711e-07 reg 2.815521e+04 train accuracy: 0.341959 val accuracy: 0.356000\n",
      "lr 1.918711e-07 reg 2.826064e+04 train accuracy: 0.338122 val accuracy: 0.354000\n",
      "lr 1.918711e-07 reg 2.832949e+04 train accuracy: 0.343265 val accuracy: 0.353000\n",
      "lr 1.918711e-07 reg 2.834542e+04 train accuracy: 0.331837 val accuracy: 0.346000\n",
      "lr 1.918711e-07 reg 2.836975e+04 train accuracy: 0.336918 val accuracy: 0.349000\n",
      "lr 1.918711e-07 reg 2.848297e+04 train accuracy: 0.336184 val accuracy: 0.355000\n",
      "lr 1.918711e-07 reg 2.857912e+04 train accuracy: 0.341857 val accuracy: 0.351000\n",
      "lr 1.918711e-07 reg 2.866749e+04 train accuracy: 0.342204 val accuracy: 0.342000\n",
      "lr 1.918711e-07 reg 2.898931e+04 train accuracy: 0.339429 val accuracy: 0.352000\n",
      "lr 1.918711e-07 reg 2.903503e+04 train accuracy: 0.338224 val accuracy: 0.356000\n",
      "lr 1.918857e-07 reg 2.804324e+04 train accuracy: 0.336490 val accuracy: 0.345000\n",
      "lr 1.918857e-07 reg 2.829663e+04 train accuracy: 0.338633 val accuracy: 0.354000\n",
      "lr 1.918857e-07 reg 2.843626e+04 train accuracy: 0.335551 val accuracy: 0.343000\n",
      "lr 1.918857e-07 reg 2.848462e+04 train accuracy: 0.336265 val accuracy: 0.368000\n",
      "lr 1.918857e-07 reg 2.857626e+04 train accuracy: 0.341633 val accuracy: 0.361000\n",
      "lr 1.918857e-07 reg 2.863529e+04 train accuracy: 0.337143 val accuracy: 0.348000\n",
      "lr 1.918857e-07 reg 2.883603e+04 train accuracy: 0.331673 val accuracy: 0.342000\n",
      "lr 1.918857e-07 reg 2.893830e+04 train accuracy: 0.337551 val accuracy: 0.350000\n",
      "lr 1.918857e-07 reg 2.897608e+04 train accuracy: 0.330980 val accuracy: 0.349000\n",
      "lr 1.918857e-07 reg 2.899157e+04 train accuracy: 0.339531 val accuracy: 0.355000\n",
      "lr 1.919046e-07 reg 2.805529e+04 train accuracy: 0.336041 val accuracy: 0.350000\n",
      "lr 1.919046e-07 reg 2.823447e+04 train accuracy: 0.341041 val accuracy: 0.348000\n",
      "lr 1.919046e-07 reg 2.828678e+04 train accuracy: 0.339367 val accuracy: 0.353000\n",
      "lr 1.919046e-07 reg 2.845428e+04 train accuracy: 0.340082 val accuracy: 0.349000\n",
      "lr 1.919046e-07 reg 2.866108e+04 train accuracy: 0.341224 val accuracy: 0.338000\n",
      "lr 1.919046e-07 reg 2.868900e+04 train accuracy: 0.339816 val accuracy: 0.357000\n",
      "lr 1.919046e-07 reg 2.875351e+04 train accuracy: 0.336204 val accuracy: 0.341000\n",
      "lr 1.919046e-07 reg 2.895695e+04 train accuracy: 0.335939 val accuracy: 0.345000\n",
      "lr 1.919046e-07 reg 2.901267e+04 train accuracy: 0.341714 val accuracy: 0.355000\n",
      "lr 1.919046e-07 reg 2.919551e+04 train accuracy: 0.337469 val accuracy: 0.359000\n",
      "lr 1.919558e-07 reg 2.837542e+04 train accuracy: 0.338694 val accuracy: 0.374000\n",
      "lr 1.919558e-07 reg 2.842976e+04 train accuracy: 0.338143 val accuracy: 0.357000\n",
      "lr 1.919558e-07 reg 2.844137e+04 train accuracy: 0.340939 val accuracy: 0.362000\n",
      "lr 1.919558e-07 reg 2.858730e+04 train accuracy: 0.339286 val accuracy: 0.335000\n",
      "lr 1.919558e-07 reg 2.866118e+04 train accuracy: 0.337510 val accuracy: 0.354000\n",
      "lr 1.919558e-07 reg 2.866428e+04 train accuracy: 0.337224 val accuracy: 0.355000\n",
      "lr 1.919558e-07 reg 2.866614e+04 train accuracy: 0.337429 val accuracy: 0.354000\n",
      "lr 1.919558e-07 reg 2.879125e+04 train accuracy: 0.339041 val accuracy: 0.350000\n",
      "lr 1.919558e-07 reg 2.883998e+04 train accuracy: 0.335224 val accuracy: 0.350000\n",
      "lr 1.919558e-07 reg 2.891522e+04 train accuracy: 0.341612 val accuracy: 0.359000\n",
      "lr 1.919968e-07 reg 2.812923e+04 train accuracy: 0.336551 val accuracy: 0.345000\n",
      "lr 1.919968e-07 reg 2.821073e+04 train accuracy: 0.338245 val accuracy: 0.345000\n",
      "lr 1.919968e-07 reg 2.821992e+04 train accuracy: 0.338898 val accuracy: 0.340000\n",
      "lr 1.919968e-07 reg 2.831225e+04 train accuracy: 0.338061 val accuracy: 0.350000\n",
      "lr 1.919968e-07 reg 2.833567e+04 train accuracy: 0.335429 val accuracy: 0.349000\n",
      "lr 1.919968e-07 reg 2.833914e+04 train accuracy: 0.333163 val accuracy: 0.335000\n",
      "lr 1.919968e-07 reg 2.836663e+04 train accuracy: 0.334286 val accuracy: 0.350000\n",
      "lr 1.919968e-07 reg 2.864424e+04 train accuracy: 0.340571 val accuracy: 0.359000\n",
      "lr 1.919968e-07 reg 2.890517e+04 train accuracy: 0.336184 val accuracy: 0.344000\n",
      "lr 1.919968e-07 reg 2.905605e+04 train accuracy: 0.336020 val accuracy: 0.340000\n",
      "lr 1.920234e-07 reg 2.811696e+04 train accuracy: 0.339755 val accuracy: 0.343000\n",
      "lr 1.920234e-07 reg 2.823728e+04 train accuracy: 0.336102 val accuracy: 0.338000\n",
      "lr 1.920234e-07 reg 2.824894e+04 train accuracy: 0.336694 val accuracy: 0.345000\n",
      "lr 1.920234e-07 reg 2.841286e+04 train accuracy: 0.340531 val accuracy: 0.348000\n",
      "lr 1.920234e-07 reg 2.843720e+04 train accuracy: 0.333857 val accuracy: 0.338000\n",
      "lr 1.920234e-07 reg 2.870188e+04 train accuracy: 0.337592 val accuracy: 0.354000\n",
      "lr 1.920234e-07 reg 2.881118e+04 train accuracy: 0.333143 val accuracy: 0.347000\n",
      "lr 1.920234e-07 reg 2.882316e+04 train accuracy: 0.339735 val accuracy: 0.360000\n",
      "lr 1.920234e-07 reg 2.884649e+04 train accuracy: 0.338408 val accuracy: 0.351000\n",
      "lr 1.920234e-07 reg 2.901856e+04 train accuracy: 0.331184 val accuracy: 0.346000\n",
      "lr 1.920806e-07 reg 2.804138e+04 train accuracy: 0.337694 val accuracy: 0.353000\n",
      "lr 1.920806e-07 reg 2.825320e+04 train accuracy: 0.340122 val accuracy: 0.354000\n",
      "lr 1.920806e-07 reg 2.826380e+04 train accuracy: 0.339653 val accuracy: 0.351000\n",
      "lr 1.920806e-07 reg 2.833298e+04 train accuracy: 0.337531 val accuracy: 0.347000\n",
      "lr 1.920806e-07 reg 2.833799e+04 train accuracy: 0.335102 val accuracy: 0.345000\n",
      "lr 1.920806e-07 reg 2.841826e+04 train accuracy: 0.338408 val accuracy: 0.351000\n",
      "lr 1.920806e-07 reg 2.892232e+04 train accuracy: 0.337041 val accuracy: 0.350000\n",
      "lr 1.920806e-07 reg 2.907310e+04 train accuracy: 0.339082 val accuracy: 0.348000\n",
      "lr 1.920806e-07 reg 2.913889e+04 train accuracy: 0.329449 val accuracy: 0.348000\n",
      "lr 1.920806e-07 reg 2.918654e+04 train accuracy: 0.338816 val accuracy: 0.351000\n",
      "best validation accuracy achieved during cross-validation: 0.374000\n"
     ]
    }
   ],
   "source": [
    "# Use the validation set to tune hyperparameters (regularization strength and\n",
    "# learning rate). You should experiment with different ranges for the learning\n",
    "# rates and regularization strengths; if you are careful you should be able to\n",
    "# get a classification accuracy of over 0.35 on the validation set.\n",
    "from cs231n.classifiers import Softmax\n",
    "results = {}\n",
    "best_val = -1\n",
    "best_softmax = Softmax()\n",
    "learning_rates = [1e-7, 5e-7]\n",
    "regularization_strengths = [5e4, 1e8]\n",
    "\n",
    "################################################################################\n",
    "# TODO:                                                                        #\n",
    "# Use the validation set to set the learning rate and regularization strength. #\n",
    "# This should be identical to the validation that you did for the SVM; save    #\n",
    "# the best trained softmax classifer in best_softmax.                          #\n",
    "################################################################################\n",
    "max_count = 10\n",
    "for i in xrange(max_count):\n",
    "    lr = np.random.uniform(1.916e-07, 1.921e-07)\n",
    "    for j in xrange(max_count):\n",
    "        reg = np.random.uniform(2.80200e4, 2.92003e4)\n",
    "        softmax = Softmax()\n",
    "        softmax.train(X_train, y_train, lr, reg, num_iters=500)\n",
    "        train_accuracy = np.mean(y_train==softmax.predict(X_train))\n",
    "        val_accuracy = np.mean(y_val==softmax.predict(X_val))\n",
    "        results[(lr, reg)] = (train_accuracy, val_accuracy)\n",
    "        if val_accuracy > best_val:\n",
    "            best_val = val_accuracy\n",
    "            best_softmax.W = softmax.W\n",
    "################################################################################\n",
    "#                              END OF YOUR CODE                                #\n",
    "################################################################################\n",
    "#lr 1.920491e-07 reg 2.824452e+04 train accuracy: 0.337755 val accuracy: 0.356000\n",
    "#lr 1.916962e-07 reg 2.879331e+04 train accuracy: 0.340714 val accuracy: 0.367000\n",
    "\n",
    "# Print out results.\n",
    "for lr, reg in sorted(results):\n",
    "    train_accuracy, val_accuracy = results[(lr, reg)]\n",
    "    print 'lr %e reg %e train accuracy: %f val accuracy: %f' % (\n",
    "                lr, reg, train_accuracy, val_accuracy)\n",
    "print 'best validation accuracy achieved during cross-validation: %f' % best_val"
   ]
  },
  {
   "cell_type": "code",
   "execution_count": 14,
   "metadata": {
    "collapsed": false
   },
   "outputs": [
    {
     "name": "stdout",
     "output_type": "stream",
     "text": [
      "softmax on raw pixels final test set accuracy: 0.349000\n"
     ]
    }
   ],
   "source": [
    "# evaluate on test set\n",
    "# Evaluate the best softmax on test set\n",
    "y_test_pred = best_softmax.predict(X_test)\n",
    "test_accuracy = np.mean(y_test == y_test_pred)\n",
    "print 'softmax on raw pixels final test set accuracy: %f' % (test_accuracy, )"
   ]
  },
  {
   "cell_type": "code",
   "execution_count": 15,
   "metadata": {
    "collapsed": false
   },
   "outputs": [
    {
     "data": {
      "image/png": "[encoded data removed]",
      "text/plain": [
       "<matplotlib.figure.Figure at 0x10a8538d0>"
      ]
     },
     "metadata": {},
     "output_type": "display_data"
    }
   ],
   "source": [
    "# Visualize the learned weights for each class\n",
    "w = best_softmax.W[:-1,:] # strip out the bias\n",
    "w = w.reshape(32, 32, 3, 10)\n",
    "\n",
    "w_min, w_max = np.min(w), np.max(w)\n",
    "\n",
    "classes = ['plane', 'car', 'bird', 'cat', 'deer', 'dog', 'frog', 'horse', 'ship', 'truck']\n",
    "for i in xrange(10):\n",
    "  plt.subplot(2, 5, i + 1)\n",
    "  \n",
    "  # Rescale the weights to be between 0 and 255\n",
    "  wimg = 255.0 * (w[:, :, :, i].squeeze() - w_min) / (w_max - w_min)\n",
    "  plt.imshow(wimg.astype('uint8'))\n",
    "  plt.axis('off')\n",
    "  plt.title(classes[i])"
   ]
  }
 ],
 "metadata": {
  "kernelspec": {
   "display_name": "Python 2",
   "language": "python",
   "name": "python2"
  },
  "language_info": {
   "codemirror_mode": {
    "name": "ipython",
    "version": 2
   },
   "file_extension": ".py",
   "mimetype": "text/x-python",
   "name": "python",
   "nbconvert_exporter": "python",
   "pygments_lexer": "ipython2",
   "version": "2.7.13"
  }
 },
 "nbformat": 4,
 "nbformat_minor": 0
}
