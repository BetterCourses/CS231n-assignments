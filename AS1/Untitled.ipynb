{
 "cells": [
  {
   "cell_type": "code",
   "execution_count": 5,
   "metadata": {
    "collapsed": false
   },
   "outputs": [
    {
     "name": "stdout",
     "output_type": "stream",
     "text": [
      "[[6 1 3]\n",
      " [6 0 6]\n",
      " [3 5 2]]\n",
      "(2, 3)\n",
      "[0 2 1]\n"
     ]
    }
   ],
   "source": [
    "import numpy as np\n",
    "a=np.random.randint(0,10,size=[3,3])  \n",
    "print a\n",
    "s = a[[1,2]]\n",
    "print s.shape\n",
    "print np.argmax(a, axis=0)\n",
    "from cs231n.classifiers import neural_net\n"
   ]
  },
  {
   "cell_type": "code",
   "execution_count": 6,
   "metadata": {
    "collapsed": false
   },
   "outputs": [
    {
     "name": "stdout",
     "output_type": "stream",
     "text": [
      "0.000762939453125\n",
      "0.000659227371216\n",
      "int64\n",
      "1\n",
      "1e-07\n",
      "5e-05\n"
     ]
    }
   ],
   "source": [
    "import numpy as np\n",
    "import time\n",
    "X = np.random.randn(200, 200)\n",
    "Y = np.random.randn(200, 200)\n",
    "\n",
    "def judge(x):\n",
    "    if x>0:\n",
    "        return 1.0\n",
    "    return x\n",
    "convert = np.frompyfunc(judge,1,1)\n",
    "C = convert(Y).astype(int)\n",
    "t1 = time.time()\n",
    "r = X.dot(C)\n",
    "t2 = time.time()\n",
    "print t2-t1\n",
    "Y[Y>0] = 1\n",
    "\n",
    "t1 = time.time()\n",
    "r = X.dot(Y)\n",
    "t2 = time.time()\n",
    "print t2-t1\n",
    "\n",
    "print C.dtype\n",
    "arr = np.array([3])\n",
    "print arr.size\n",
    "np.median(arr)\n",
    "lrs = [1e-7, 5e-5]\n",
    "for i in lrs:\n",
    "    print i"
   ]
  },
  {
   "cell_type": "code",
   "execution_count": 7,
   "metadata": {
    "collapsed": false
   },
   "outputs": [
    {
     "name": "stdout",
     "output_type": "stream",
     "text": [
      "100 100\n",
      "101 101\n"
     ]
    }
   ],
   "source": [
    "class Complex:\n",
    "    def __init__(self, realpart, imagpart):\n",
    "         self.r = realpart\n",
    "         self.i = imagpart\n",
    "c1 = Complex(1, 2)\n",
    "c2 = None\n",
    "c2 = c1\n",
    "c2.r = 100\n",
    "print c1.r, c2.r\n",
    "c1.r = 101\n",
    "print c1.r, c2.r\n",
    "\n"
   ]
  },
  {
   "cell_type": "code",
   "execution_count": null,
   "metadata": {
    "collapsed": true
   },
   "outputs": [],
   "source": []
  }
 ],
 "metadata": {
  "kernelspec": {
   "display_name": "Python 2",
   "language": "python",
   "name": "python2"
  },
  "language_info": {
   "codemirror_mode": {
    "name": "ipython",
    "version": 2
   },
   "file_extension": ".py",
   "mimetype": "text/x-python",
   "name": "python",
   "nbconvert_exporter": "python",
   "pygments_lexer": "ipython2",
   "version": "2.7.13"
  }
 },
 "nbformat": 4,
 "nbformat_minor": 1
}
